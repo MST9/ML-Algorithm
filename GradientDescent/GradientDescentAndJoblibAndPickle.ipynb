{
  "nbformat": 4,
  "nbformat_minor": 0,
  "metadata": {
    "colab": {
      "name": "GradientDescent.ipynb",
      "provenance": [],
      "collapsed_sections": []
    },
    "kernelspec": {
      "display_name": "Python 3",
      "name": "python3"
    }
  },
  "cells": [
    {
      "cell_type": "code",
      "metadata": {
        "id": "lkqCsnA6BCnb"
      },
      "source": [
        "import pandas as pd\n",
        "import numpy as np\n",
        "import matplotlib.pyplot as plt\n",
        "from sklearn import linear_model\n",
        "import math\n",
        "# from google.colab import drive\n",
        "# drive.mount('/content/gdrive')"
      ],
      "execution_count": null,
      "outputs": []
    },
    {
      "cell_type": "code",
      "metadata": {
        "colab": {
          "base_uri": "https://localhost:8080/",
          "height": 359
        },
        "id": "WJGktxePrEAt",
        "outputId": "83951e35-e3ef-44d4-b1d9-2c2b80b17211"
      },
      "source": [
        "df=pd.read_csv(\"drive/My Drive/Colab Notebooks/Datasets/testingGradientDescent.csv\")\n",
        "df"
      ],
      "execution_count": null,
      "outputs": [
        {
          "output_type": "execute_result",
          "data": {
            "text/html": [
              "<div>\n",
              "<style scoped>\n",
              "    .dataframe tbody tr th:only-of-type {\n",
              "        vertical-align: middle;\n",
              "    }\n",
              "\n",
              "    .dataframe tbody tr th {\n",
              "        vertical-align: top;\n",
              "    }\n",
              "\n",
              "    .dataframe thead th {\n",
              "        text-align: right;\n",
              "    }\n",
              "</style>\n",
              "<table border=\"1\" class=\"dataframe\">\n",
              "  <thead>\n",
              "    <tr style=\"text-align: right;\">\n",
              "      <th></th>\n",
              "      <th>name</th>\n",
              "      <th>math</th>\n",
              "      <th>cs</th>\n",
              "    </tr>\n",
              "  </thead>\n",
              "  <tbody>\n",
              "    <tr>\n",
              "      <th>0</th>\n",
              "      <td>david</td>\n",
              "      <td>92</td>\n",
              "      <td>98</td>\n",
              "    </tr>\n",
              "    <tr>\n",
              "      <th>1</th>\n",
              "      <td>laura</td>\n",
              "      <td>56</td>\n",
              "      <td>68</td>\n",
              "    </tr>\n",
              "    <tr>\n",
              "      <th>2</th>\n",
              "      <td>sanjay</td>\n",
              "      <td>88</td>\n",
              "      <td>81</td>\n",
              "    </tr>\n",
              "    <tr>\n",
              "      <th>3</th>\n",
              "      <td>wei</td>\n",
              "      <td>70</td>\n",
              "      <td>80</td>\n",
              "    </tr>\n",
              "    <tr>\n",
              "      <th>4</th>\n",
              "      <td>jeff</td>\n",
              "      <td>80</td>\n",
              "      <td>83</td>\n",
              "    </tr>\n",
              "    <tr>\n",
              "      <th>5</th>\n",
              "      <td>aamir</td>\n",
              "      <td>49</td>\n",
              "      <td>52</td>\n",
              "    </tr>\n",
              "    <tr>\n",
              "      <th>6</th>\n",
              "      <td>venkat</td>\n",
              "      <td>65</td>\n",
              "      <td>66</td>\n",
              "    </tr>\n",
              "    <tr>\n",
              "      <th>7</th>\n",
              "      <td>virat</td>\n",
              "      <td>35</td>\n",
              "      <td>30</td>\n",
              "    </tr>\n",
              "    <tr>\n",
              "      <th>8</th>\n",
              "      <td>arthur</td>\n",
              "      <td>66</td>\n",
              "      <td>68</td>\n",
              "    </tr>\n",
              "    <tr>\n",
              "      <th>9</th>\n",
              "      <td>paul</td>\n",
              "      <td>67</td>\n",
              "      <td>73</td>\n",
              "    </tr>\n",
              "  </tbody>\n",
              "</table>\n",
              "</div>"
            ],
            "text/plain": [
              "     name  math  cs\n",
              "0   david    92  98\n",
              "1   laura    56  68\n",
              "2  sanjay    88  81\n",
              "3     wei    70  80\n",
              "4    jeff    80  83\n",
              "5   aamir    49  52\n",
              "6  venkat    65  66\n",
              "7   virat    35  30\n",
              "8  arthur    66  68\n",
              "9    paul    67  73"
            ]
          },
          "metadata": {
            "tags": []
          },
          "execution_count": 8
        }
      ]
    },
    {
      "cell_type": "code",
      "metadata": {
        "id": "DPqulsZod-Zo"
      },
      "source": [
        "def gradientDescent(x,y):\n",
        "  mCurr=bCurr=0\n",
        "  iterations=100\n",
        "  n=len(x)\n",
        "  learningRate=0.0002\n",
        "  costPrev=0\n",
        "  \n",
        "  for i in range(iterations):\n",
        "    yPredict=mCurr*x+bCurr\n",
        "    cost=(1/n)*sum([val**2 for val in (y-yPredict)])\n",
        "    md=-(2/n)*sum(x*(y-yPredict))\n",
        "    bd=-(2/n)*sum(y-yPredict)\n",
        "    mCurr=mCurr-learningRate*md\n",
        "    bCurr=bCurr-learningRate*bd\n",
        "    # print(\"iterations: \",i,\" mCurr: \",mCurr,\" bCurr: \",bCurr,\" cost: \",cost)\n",
        "    if(math.isclose(costPrev,cost,abs_tol=1e-20)):\n",
        "      break\n",
        "    costPrev=cost  \n"
      ],
      "execution_count": null,
      "outputs": []
    },
    {
      "cell_type": "code",
      "metadata": {
        "colab": {
          "base_uri": "https://localhost:8080/"
        },
        "id": "huqmsDAYfHXA",
        "outputId": "127c7823-ca4c-4443-fdcd-8335cd41d03e"
      },
      "source": [
        "x=np.array(df['math'])\n",
        "y=np.array(df['cs'])\n",
        "r=linear_model.LinearRegression()\n",
        "r.fit(df[['math']],y)\n",
        "gradientDescent(x,y)\n",
        "print(\"coeffcient: \",r.coef_,\" intercept: \",r.intercept_)\n",
        "\n"
      ],
      "execution_count": null,
      "outputs": [
        {
          "output_type": "stream",
          "text": [
            "coeffcient:  [1.01773624]  intercept:  1.9152193111569034\n"
          ],
          "name": "stdout"
        }
      ]
    },
    {
      "cell_type": "code",
      "metadata": {
        "colab": {
          "base_uri": "https://localhost:8080/"
        },
        "id": "_cM9MiTxkDRq",
        "outputId": "1d502f47-48b8-4ae8-f4c7-baba8e98119f"
      },
      "source": [
        "import pickle\n",
        "\n",
        "with open('drive/My Drive/Colab Notebooks/Datasets/modelPickle',\"wb\") as f:\n",
        "  pickle.dump(r,f) \n",
        "\n",
        "with open('drive/My Drive/Colab Notebooks/Datasets/modelPickle',\"rb\") as f:\n",
        "  newModel=pickle.load(f)  \n",
        "\n",
        "r.predict([[5000]])  "
      ],
      "execution_count": null,
      "outputs": [
        {
          "output_type": "execute_result",
          "data": {
            "text/plain": [
              "array([5090.5964086])"
            ]
          },
          "metadata": {
            "tags": []
          },
          "execution_count": 17
        }
      ]
    },
    {
      "cell_type": "code",
      "metadata": {
        "colab": {
          "base_uri": "https://localhost:8080/"
        },
        "id": "5TXOUlEIl6zi",
        "outputId": "b6a3be74-d4c2-40a6-8341-f17f995495aa"
      },
      "source": [
        "newModel.predict([[5000]])"
      ],
      "execution_count": null,
      "outputs": [
        {
          "output_type": "execute_result",
          "data": {
            "text/plain": [
              "array([5090.5964086])"
            ]
          },
          "metadata": {
            "tags": []
          },
          "execution_count": 18
        }
      ]
    },
    {
      "cell_type": "code",
      "metadata": {
        "colab": {
          "base_uri": "https://localhost:8080/"
        },
        "id": "a6SikwL0oQyF",
        "outputId": "b1213be5-cb37-424b-fc7b-851d143ccbef"
      },
      "source": [
        "pip install joblib"
      ],
      "execution_count": null,
      "outputs": [
        {
          "output_type": "stream",
          "text": [
            "Requirement already satisfied: joblib in /usr/local/lib/python3.6/dist-packages (0.17.0)\n"
          ],
          "name": "stdout"
        }
      ]
    },
    {
      "cell_type": "code",
      "metadata": {
        "colab": {
          "base_uri": "https://localhost:8080/"
        },
        "id": "l8uWqPv5ng4j",
        "outputId": "b7693b89-72e7-4563-8e32-684f209c70af"
      },
      "source": [
        "# from sklearn.externals import joblib\n",
        "\n",
        "joblib.dump(r,'modelJoblib')\n",
        "\n",
        "newModelJoblib=joblib.load('modelJoblib')\n",
        "newModelJoblib.predict([[5000]])"
      ],
      "execution_count": null,
      "outputs": [
        {
          "output_type": "execute_result",
          "data": {
            "text/plain": [
              "array([5090.5964086])"
            ]
          },
          "metadata": {
            "tags": []
          },
          "execution_count": 22
        }
      ]
    }
  ]
}